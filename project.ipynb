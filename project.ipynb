{
 "cells": [
  {
   "cell_type": "markdown",
   "id": "0cfb85fa",
   "metadata": {},
   "source": [
    "<h1>Quantum Computing</h1>"
   ]
  },
  {
   "cell_type": "markdown",
   "id": "d478bdf4",
   "metadata": {},
   "source": [
    "Before Diving into the topic of Deutsch's Algorithm, I will go through the basics of quantum computing.\n",
    "\n",
    "<h3>What is Quantum Computing?</h3>\n",
    "\n",
    "Quantum Computing is a emerging technology which uses quantum mechanics to perform computations, as a conventional computer uses bits which can be 0 or 1, Quantum computing uses qubits which can be in superposition meaning both 0 or 1 at the same time. This creates a new dimension which our classical computers do not have and creates opppurtunity to do much larger scale computations.\n",
    "\n",
    "<b>Qubit Anology</b> - A qubit can be represented as a spinning coin, The coin is both heads and tails at the same time, Just like how a qubit can be 0 or 1 at the same time.\n",
    "\n",
    "<b>Superposition Anology</b> - The Superposition is the state for the spinning coin which is heads and tails at the same time.\n"
   ]
  },
  {
   "cell_type": "markdown",
   "id": "d4025ee6",
   "metadata": {},
   "source": [
    "<h2>Key Concepts in Quantum Computing:</h2>"
   ]
  },
  {
   "cell_type": "markdown",
   "id": "2b23f832",
   "metadata": {},
   "source": [
    "<h3>Quantum Gates</h3>\n",
    "\n",
    "Just like classical computing uses logic gates to process information, quantum computing uses quantum gates to perform similar functions but with operations that exploit the unique properties of quantum physics. These quantum gates are the building blocks of quantum circuits, changing the states of qubits in ways that enable superposition—where a qubit can be in multiple states at once—and entanglement—where the state of one qubit can depend on the state of another no matter the distance between them. This enables quantum computers to perform many calculations simultaneously, offering the potential for vast computational speed-ups for certain tasks. Quantum gates operate through various physical phenomena, such as the polarization of photons or the spin of electrons, and are crucial for the manipulation of quantum information in algorithms designed for quantum processors. \n",
    "<a href=\"https://quantumzeitgeist.com/quantum-computing-101/\">[1]. Quantum 101</a>\n"
   ]
  },
  {
   "cell_type": "markdown",
   "id": "bef43f79",
   "metadata": {},
   "source": [
    "<h3>Quantum Circuits</h3>\n",
    "\n",
    "A Quantum Circuit is a computational procedure with real-time classical computation that uses quantum operations and data such as qubits. It consists of quantum gates, measurements, resets, which make up a sequence of operations guiding the behavior of qubits through a computational task. These operations allow the circuit to exploit quantum phenomena such as superposition and entanglement to perform complex calculations more efficiently than classical circuits. The output of a quantum circuit is typically obtained by measuring the qubits at the end of the process, which provides the result of the quantum computation in the form of classical bits<a href=\"https://quantumzeitgeist.com/quantum-computing-101/\">[1]. Quantum 101</a>\n"
   ]
  },
  {
   "cell_type": "markdown",
   "id": "d896bd00",
   "metadata": {},
   "source": [
    "<h3>Quantum Entanglement</h3>\n",
    "\n",
    "Quantum entanglement is a phenomenon where a group of particles become interconnected in such a way that the state of each particle cannot be described independently of the state of the others, even when the particles are separated by large distances. This means that measuring one entangled particle immediately affects the state of the other no matter how far apart they are.<a href=\"https://quantumzeitgeist.com/quantum-computing-101/\">[1]. Quantum 101</a>\n"
   ]
  },
  {
   "cell_type": "markdown",
   "id": "067a55a8",
   "metadata": {},
   "source": [
    " <h1>Deutsch’s Algorithm</h1>"
   ]
  },
  {
   "attachments": {},
   "cell_type": "markdown",
   "id": "1a2b966d",
   "metadata": {},
   "source": [
    "<h3>What is Deutsch’s Algorithm?</h3>\n",
    "\n",
    "Duetsch's Algorithm is a quantuam algorithm which can determine if a boolean function is constant (Always the same) or balanced (Changes Sometimes) using only one query. \n",
    "\n",
    "- Boolean Function: Is a function which takes one or more binary inputs (0's and 1's) then functions and produces a single binary.\n",
    "\n",
    "A constant function is one that always outputs the same value.\n",
    "A balanced function is one that outputs 0 half of the time and 1 half of the time.\n",
    "\n",
    "<h2>Problem Statement</h2>\n",
    "\n",
    "$f: \\{0, 1\\}^n \\to \\{0, 1\\}$\n",
    "\n",
    "Given a black box function f: {0, 1} → {0, 1}, determine whether f is a constant function or a balanced function.\n",
    "\n",
    "Deutsch's algorithm can solve this problem with only one query to the black box function. This is a significant improvement over any classical algorithm, which would require evaluating the function at both 0 and 1 to determine its behavior.<a href=\"https://en.wikipedia.org/wiki/Deutsch%E2%80%93Jozsa_algorithm\">[2]. Wikipedia</a>"
   ]
  },
  {
   "cell_type": "markdown",
   "id": "9142d8b7",
   "metadata": {},
   "source": [
    "<h1>References:</h1>\n",
    "\n",
    "1. Quantum 101: https://quantumzeitgeist.com/quantum-computing-101/\n",
    "2. Wikipedia: https://en.wikipedia.org/wiki/Deutsch%E2%80%93Jozsa_algorithm"
   ]
  }
 ],
 "metadata": {
  "kernelspec": {
   "display_name": "Python 3 (ipykernel)",
   "language": "python",
   "name": "python3"
  },
  "language_info": {
   "codemirror_mode": {
    "name": "ipython",
    "version": 3
   },
   "file_extension": ".py",
   "mimetype": "text/x-python",
   "name": "python",
   "nbconvert_exporter": "python",
   "pygments_lexer": "ipython3",
   "version": "3.9.18"
  }
 },
 "nbformat": 4,
 "nbformat_minor": 5
}
