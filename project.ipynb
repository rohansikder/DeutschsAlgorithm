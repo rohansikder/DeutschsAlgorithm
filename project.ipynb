{
 "cells": [
  {
   "cell_type": "markdown",
   "id": "0cfb85fa",
   "metadata": {},
   "source": [
    "<h1>Quantum Computing</h1>"
   ]
  },
  {
   "cell_type": "markdown",
   "id": "d478bdf4",
   "metadata": {},
   "source": [
    "Before Diving into the topic of Deutsch's Algorithm, I will go through the basics of quantum computing.\n",
    "\n",
    "<h3>What is Quantum Computing?</h3>\n",
    "\n",
    "Quantum Computing is a emerging technology which uses quantum mechanics to perform computations, as a conventional computer uses bits which can be 0 or 1, Quantum computing uses qubits which can be in superposition meaning both 0 or 1 at the same time. This creates a new dimension which our classical computers do not have and creates opppurtunity to do much larger scale computations.\n",
    "\n",
    "<b>Qubit Anology</b> - A qubit can be represented as a spinning coin, The coin is both heads and tails at the same time, Just like how a qubit can be 0 or 1 at the same time.\n",
    "\n",
    "<b>Superposition Anology</b> - The Superposition is the state for the spinning coin which is heads and tails at the same time.\n"
   ]
  },
  {
   "cell_type": "markdown",
   "id": "d4025ee6",
   "metadata": {},
   "source": [
    "<h2>Key Concepts in Quantum Computing:</h2>"
   ]
  },
  {
   "cell_type": "markdown",
   "id": "2b23f832",
   "metadata": {},
   "source": [
    "<h3>Quantum Circuits</h3>"
   ]
  },
  {
   "cell_type": "markdown",
   "id": "bef43f79",
   "metadata": {},
   "source": [
    "<h3>Quantum Gates</h3>"
   ]
  },
  {
   "cell_type": "markdown",
   "id": "d896bd00",
   "metadata": {},
   "source": [
    "<h3>Quantum Entanglement</h3>"
   ]
  },
  {
   "cell_type": "markdown",
   "id": "067a55a8",
   "metadata": {},
   "source": [
    " <h1>Deutsch’s Algorithm</h1>"
   ]
  },
  {
   "cell_type": "markdown",
   "id": "1a2b966d",
   "metadata": {},
   "source": [
    "<h3>What is Deutsch’s Algorithm?</h3>\n",
    "\n",
    "Duetsch's Algorithm is a quantuam algorithm which can determine if a function is constant (Always the same) or balanced (Changes Sometimes), using only one query. "
   ]
  }
 ],
 "metadata": {
  "kernelspec": {
   "display_name": "Python 3 (ipykernel)",
   "language": "python",
   "name": "python3"
  },
  "language_info": {
   "codemirror_mode": {
    "name": "ipython",
    "version": 3
   },
   "file_extension": ".py",
   "mimetype": "text/x-python",
   "name": "python",
   "nbconvert_exporter": "python",
   "pygments_lexer": "ipython3",
   "version": "3.9.18"
  }
 },
 "nbformat": 4,
 "nbformat_minor": 5
}
