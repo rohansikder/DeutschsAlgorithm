{
 "cells": [
  {
   "cell_type": "markdown",
   "id": "1024af57",
   "metadata": {},
   "source": [
    "<h1>1. Collatz Conjecture</h1>"
   ]
  },
  {
   "cell_type": "markdown",
   "id": "8fa8e65b",
   "metadata": {},
   "source": [
    "<b>Conjecture Definition:</b> A conjecture is a conclusion that is based on information that is not certain or complete. <i>Collins Dictionary</i>"
   ]
  },
  {
   "cell_type": "markdown",
   "id": "105a3bdb",
   "metadata": {},
   "source": [
    "The Collatz Conjecture is unsolved problem in mathematics it is also known as 3n + 1 problem, Which states when  repeating two arithmetic actions for all positive integers the final state will be 1. The Problem is that all positive integers have not been proven as positive integers is infinite, this makes it challenging to prove all numbers. "
   ]
  },
  {
   "cell_type": "markdown",
   "id": "317e6fbb",
   "metadata": {},
   "source": [
    "<h4>Arithmetic Operations</h4>\n",
    "\n",
    "1. Divide even numbers by two.\n",
    "\n",
    "2. Multiplying odd numbers by three and adding one."
   ]
  },
  {
   "cell_type": "markdown",
   "id": "5374e51c",
   "metadata": {},
   "source": [
    "<h4>Collatz Conjecture example with positive integer of 13.</h4>"
   ]
  },
  {
   "cell_type": "markdown",
   "id": "c77178cb",
   "metadata": {},
   "source": [
    "- 13 is odd, so we multiply it by 3 and add 1 which gives 40.\n",
    "- 40 is even, so we divide by 2 which gives 10.\n",
    "- 10 is even, so we divide by 2 which gives 5.\n",
    "- 5 is odd, so we multiply it by 3 and add 1 which gives 16.\n",
    "- 16 is even, so we divide it by 2 which gives 8.\n",
    "- 8 is even, so we divide it by 2 which gives 4.\n",
    "- 4 is even, so we divide it by 2 which gives 2.\n",
    "- 2 is even, so we divide it by 2 which gives 1.\n",
    "\n",
    "The sequence has reached 1 following the Collatz Conjecture."
   ]
  },
  {
   "cell_type": "markdown",
   "id": "27fb539d",
   "metadata": {},
   "source": [
    "<i><h4>Task: Verify using Python, That the conjecture is true for the first 10,000 positive integers.</h4></i>"
   ]
  },
  {
   "cell_type": "code",
   "execution_count": 1,
   "id": "e0778102",
   "metadata": {},
   "outputs": [
    {
     "name": "stdout",
     "output_type": "stream",
     "text": [
      "Collatz Conjecture is true for all integers from 1 to 10,000.\n"
     ]
    }
   ],
   "source": [
    "# Two Arthimetic Operations\n",
    "def collatz_sequence(n):\n",
    "    while n != 1 and n > 0:\n",
    "        if n % 2 == 0:\n",
    "            n = n // 2\n",
    "        else:\n",
    "            n = 3 * n + 1\n",
    "    return n\n",
    "\n",
    "#Loops through all all integers up to 10,000\n",
    "def verify_collatz_conjecture(limit):\n",
    "    for i in range(1, limit + 1):\n",
    "        #If Sequence does not end in 1 it returns the false statment with which integer end in 1.\n",
    "        result = collatz_sequence(i)\n",
    "        if result != 1:\n",
    "            print(f\"Collatz Conjecture is false for {i}.\")\n",
    "            return\n",
    "    print(\"Collatz Conjecture is true for all integers from 1 to 10,000.\")\n",
    "\n",
    "verify_collatz_conjecture(10000)"
   ]
  },
  {
   "cell_type": "markdown",
   "id": "9baa1cc4",
   "metadata": {},
   "source": [
    "<h1>2. Square Roots</h1>"
   ]
  },
  {
   "attachments": {},
   "cell_type": "markdown",
   "id": "6b4ef2c8",
   "metadata": {},
   "source": [
    "<h3>What is Square root?</h3>\n",
    "\n",
    "A Square root of a number is the value when it is multiplied by itself, Eg. Square root of 9 is 3 as 3x3 = 9.\n",
    "\n",
    "<h4>Newton's method formula for Square root:</h4>\n",
    "\n",
    "$z_{i+1} = z_{i} - \\frac{z_{i} \\times z_{i} - x}{2z_{i}}$"
   ]
  },
  {
   "cell_type": "code",
   "execution_count": 1,
   "id": "eca6a0fb",
   "metadata": {},
   "outputs": [
    {
     "name": "stdout",
     "output_type": "stream",
     "text": [
      "Enter a number to find its square root: 8\n",
      "Approximate square root of 8.0 is: 2.8284313725490193\n"
     ]
    }
   ],
   "source": [
    "def sqrt(x):\n",
    "    # Initial guess for square root\n",
    "    z = x / 2.0\n",
    "    threshold = 0.01\n",
    "    \n",
    "    # Loop until the difference between z and the next approximation is less than threshold\n",
    "    while abs(z * z - x) > threshold:\n",
    "        # Newton's method formula to improve the approximation\n",
    "        z = (z + x / z) / 2.0\n",
    "        \n",
    "    return z\n",
    "\n",
    "number = float(input(\"Enter a number to find its square root: \"))\n",
    "result = sqrt(number)\n",
    "print(f\"Approximate square root of {number} is: {result}\")"
   ]
  },
  {
   "cell_type": "markdown",
   "id": "f575b855",
   "metadata": {},
   "source": [
    "<h1>3. Functions taking four bits as input and\n",
    "outputting a single bit</h1>"
   ]
  },
  {
   "cell_type": "markdown",
   "id": "a4bf0a9d",
   "metadata": {},
   "source": [
    "There is (2^4) 16 Possible combinations for 4 bits, which give 2 Possible outputs Zero or One, Seen below in the truth table, where each function maps the 16 possible input combinations to either 0 or 1, This makes 65536 (2^16) different possible functions."
   ]
  },
  {
   "cell_type": "markdown",
   "id": "17f96f9d",
   "metadata": {},
   "source": [
    "| Input (4 bits) | Output (1 bit) |\n",
    "| -------------- | ------------- |\n",
    "| 0000           | 0             |\n",
    "| 0001           | 1             |\n",
    "| 0010           | 0             |\n",
    "| 0011           | 1             |\n",
    "| 0100           | 1             |\n",
    "| 0101           | 0             |\n",
    "| 0110           | 1             |\n",
    "| 0111           | 0             |\n",
    "| 1000           | 0             |\n",
    "| 1001           | 1             |\n",
    "| 1010           | 1             |\n",
    "| 1011           | 0             |\n",
    "| 1100           | 1             |\n",
    "| 1101           | 0             |\n",
    "| 1110           | 1             |\n",
    "| 1111           | 0             |"
   ]
  },
  {
   "cell_type": "markdown",
   "id": "fdaa08c8",
   "metadata": {},
   "source": [
    "<h4>Write Python code to select one such function at random out of all\n",
    "the possibilities. </h4>"
   ]
  },
  {
   "cell_type": "code",
   "execution_count": 3,
   "id": "1e4a1d39",
   "metadata": {},
   "outputs": [
    {
     "name": "stdout",
     "output_type": "stream",
     "text": [
      "Input: [0, 0, 1, 0], Output: 1\n"
     ]
    }
   ],
   "source": [
    "import random\n",
    "\n",
    "def xor_gate(input_bits):\n",
    "    # Ensure the input_bits contain exactly 4 elements\n",
    "    if len(input_bits) != 4:\n",
    "        raise ValueError(\"Input must be a list of 4 bits (0 or 1)\")\n",
    "    \n",
    "    # Compute XOR operation on the input bits\n",
    "    output_bit = input_bits[0] ^ input_bits[1] ^ input_bits[2] ^ input_bits[3]\n",
    "    return output_bit\n",
    "\n",
    "\n",
    "# Creating random 4 bit input\n",
    "input_bits = [random.randint(0, 1) for _ in range(4)]\n",
    "    \n",
    "# Call the function with the current input\n",
    "output_bit = xor_gate(input_bits)\n",
    "    \n",
    "# Print the input bits and the corresponding output bit\n",
    "print(f\"Input: {input_bits}, Output: {output_bit}\")"
   ]
  },
  {
   "cell_type": "markdown",
   "id": "c636b9a2",
   "metadata": {},
   "source": [
    "<h4>How many times do you need to call the function to\n",
    "be certain which function it is?</h4>\n",
    "\n",
    "The function would need to be called 16 times to see what function it was from seeing from all the possibilites."
   ]
  },
  {
   "cell_type": "code",
   "execution_count": 4,
   "id": "6f7b7c6d",
   "metadata": {},
   "outputs": [
    {
     "name": "stdout",
     "output_type": "stream",
     "text": [
      "Input: [0, 0, 0, 0], Output: 0\n",
      "Input: [0, 0, 0, 1], Output: 1\n",
      "Input: [0, 0, 1, 0], Output: 1\n",
      "Input: [0, 0, 1, 1], Output: 0\n",
      "Input: [0, 1, 0, 0], Output: 1\n",
      "Input: [0, 1, 0, 1], Output: 0\n",
      "Input: [0, 1, 1, 0], Output: 0\n",
      "Input: [0, 1, 1, 1], Output: 1\n",
      "Input: [1, 0, 0, 0], Output: 1\n",
      "Input: [1, 0, 0, 1], Output: 0\n",
      "Input: [1, 0, 1, 0], Output: 0\n",
      "Input: [1, 0, 1, 1], Output: 1\n",
      "Input: [1, 1, 0, 0], Output: 0\n",
      "Input: [1, 1, 0, 1], Output: 1\n",
      "Input: [1, 1, 1, 0], Output: 1\n",
      "Input: [1, 1, 1, 1], Output: 0\n"
     ]
    }
   ],
   "source": [
    "import random\n",
    "\n",
    "def xor_gate(input_bits):\n",
    "    # Ensure the input_bits contain exactly 4 elements\n",
    "    if len(input_bits) != 4:\n",
    "        raise ValueError(\"Input must be a list of 4 bits (0 or 1)\")\n",
    "    \n",
    "    # Compute XOR operation on the input bits\n",
    "    output_bit = input_bits[0] ^ input_bits[1] ^ input_bits[2] ^ input_bits[3]\n",
    "    return output_bit\n",
    "\n",
    "# Test all 16 possible input combinations and determine the function\n",
    "for i in range(16):\n",
    "    # Convert the index 'i' to 4-bit binary representation\n",
    "    input_bits = [int(bit) for bit in format(i, '04b')]\n",
    "    \n",
    "    # Call the function with the current input\n",
    "    output_bit = xor_gate(input_bits)\n",
    "    \n",
    "    # Print the input bits and the corresponding output bit\n",
    "    print(f\"Input: {input_bits}, Output: {output_bit}\")"
   ]
  },
  {
   "cell_type": "markdown",
   "id": "5900985f",
   "metadata": {},
   "source": [
    "<h1>4. Function that performs Matrix Multiplication on two rectangular lists containing floats.</h1>"
   ]
  },
  {
   "cell_type": "code",
   "execution_count": 8,
   "id": "6044f6d8",
   "metadata": {},
   "outputs": [
    {
     "name": "stdout",
     "output_type": "stream",
     "text": [
      "Result of matrix multiplication:\n",
      "[30.0, 24.0, 18.0]\n",
      "[84.0, 69.0, 54.0]\n",
      "[138.0, 114.0, 90.0]\n"
     ]
    }
   ],
   "source": [
    "def matrix_multiplication(matrix1, matrix2):\n",
    "    # Get the number of rows and columns for each matrix\n",
    "    rows1, cols1 = len(matrix1), len(matrix1[0])\n",
    "    rows2, cols2 = len(matrix2), len(matrix2[0])\n",
    "\n",
    "     # Check if the matrices can be multiplied\n",
    "    if cols1 != rows2:\n",
    "        print(\"Error: Number of columns and rows must be equal to both matrices\")\n",
    "        return None\n",
    "    \n",
    "    # Initialize the result matrix with zeros\n",
    "    result = [[0.0 for _ in range(cols2)] for _ in range(rows1)]\n",
    "\n",
    "    # Perform matrix multiplication\n",
    "    for i in range(rows1):\n",
    "        for j in range(cols2):\n",
    "            for k in range(cols1):\n",
    "                result[i][j] += matrix1[i][k] * matrix2[k][j]\n",
    "\n",
    "    return result\n",
    "\n",
    "# Example usage\n",
    "matrix1 = [[1.0, 2.0, 3.0], [4.0, 5.0, 6.0], [7.0, 8.0, 9.0]]\n",
    "matrix2 = [[9.0, 8.0, 7.0], [6.0, 5.0, 4.0], [3.0, 2.0, 1.0]]\n",
    "\n",
    "result_matrix = matrix_multiplication(matrix1, matrix2)\n",
    "print(\"Result of matrix multiplication:\")\n",
    "for row in result_matrix:\n",
    "    print(row)\n"
   ]
  }
 ],
 "metadata": {
  "kernelspec": {
   "display_name": "Python 3 (ipykernel)",
   "language": "python",
   "name": "python3"
  },
  "language_info": {
   "codemirror_mode": {
    "name": "ipython",
    "version": 3
   },
   "file_extension": ".py",
   "mimetype": "text/x-python",
   "name": "python",
   "nbconvert_exporter": "python",
   "pygments_lexer": "ipython3",
   "version": "3.9.18"
  }
 },
 "nbformat": 4,
 "nbformat_minor": 5
}
