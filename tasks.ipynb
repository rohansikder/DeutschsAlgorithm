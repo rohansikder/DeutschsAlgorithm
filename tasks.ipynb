{
 "cells": [
  {
   "cell_type": "markdown",
   "id": "1024af57",
   "metadata": {},
   "source": [
    "<h1>Collatz Conjecture</h1>"
   ]
  },
  {
   "cell_type": "markdown",
   "id": "8fa8e65b",
   "metadata": {},
   "source": [
    "<b>Conjecture Definition:</b> A conjecture is a conclusion that is based on information that is not certain or complete. <i>Collins Dictionary</i>"
   ]
  },
  {
   "cell_type": "markdown",
   "id": "105a3bdb",
   "metadata": {},
   "source": [
    "The Collatz Conjecture is unsolved problem in mathematics it is also known as 3n + 1 problem, Which states when  repeating two arithmetic actions for all positive integers the final state will be 1. The Problem is that all positive integers have not been proven as positive integers is virtually infinite, this makes it challenging to prove all numbers. "
   ]
  },
  {
   "cell_type": "markdown",
   "id": "317e6fbb",
   "metadata": {},
   "source": [
    "<h4>Arithmetic Operations</h4>\n",
    "\n",
    "1. Divide even numbers by two.\n",
    "\n",
    "2. Multiplying odd numbers by three and adding 1."
   ]
  },
  {
   "cell_type": "markdown",
   "id": "5374e51c",
   "metadata": {},
   "source": [
    "<h4>Collatz Conjecture example with positive integer of 13.</h4>"
   ]
  },
  {
   "cell_type": "markdown",
   "id": "c77178cb",
   "metadata": {},
   "source": [
    "- 13 is odd, so we multiply it by 3 and add 1 which gives 40.\n",
    "- 40 is even, so we divide by 2 which gives 10.\n",
    "- 10 is even, so we divide by 2 which gives 5.\n",
    "- 5 is odd, so we multiply it by 3 and add 1 which gives 16.\n",
    "- 16 is even, so we divide it by 2 which gives 8.\n",
    "- 8 is even, so we divide it by 2 which gives 4.\n",
    "- 4 is even, so we divide it by 2 which gives 2.\n",
    "- 2 is even, so we divide it by 2 which gives 1.\n",
    "\n",
    "The sequence has reached 1 following the Collatz Conjecture."
   ]
  },
  {
   "cell_type": "markdown",
   "id": "27fb539d",
   "metadata": {},
   "source": [
    "<i><h4>Task: Verify using Python, That the conjecture is true for the first 10,000 positive integers.</h4></i>"
   ]
  },
  {
   "cell_type": "code",
   "execution_count": 1,
   "id": "361c16cf",
   "metadata": {},
   "outputs": [
    {
     "name": "stdout",
     "output_type": "stream",
     "text": [
      "Collatz Conjecture is true for all integers from 1 to 10,000.\n"
     ]
    }
   ],
   "source": [
    "# Two Arthimetic Operations\n",
    "def collatz_sequence(n):\n",
    "    while n != 1 and n > 0:\n",
    "        if n % 2 == 0:\n",
    "            n = n // 2\n",
    "        else:\n",
    "            n = 3 * n + 1\n",
    "    return n\n",
    "\n",
    "#Loops through all all integers up to 10,000\n",
    "def verify_collatz_conjecture(limit):\n",
    "    for i in range(1, limit + 1):\n",
    "        #If Sequence does not end in 1 it returns the false statment with which integer end in 1.\n",
    "        result = collatz_sequence(i)\n",
    "        if result != 1:\n",
    "            print(f\"Collatz Conjecture is false for {i}.\")\n",
    "            return\n",
    "    print(\"Collatz Conjecture is true for all integers from 1 to 10,000.\")\n",
    "\n",
    "verify_collatz_conjecture(10000)"
   ]
  }
 ],
 "metadata": {
  "kernelspec": {
   "display_name": "Python 3 (ipykernel)",
   "language": "python",
   "name": "python3"
  },
  "language_info": {
   "codemirror_mode": {
    "name": "ipython",
    "version": 3
   },
   "file_extension": ".py",
   "mimetype": "text/x-python",
   "name": "python",
   "nbconvert_exporter": "python",
   "pygments_lexer": "ipython3",
   "version": "3.9.18"
  }
 },
 "nbformat": 4,
 "nbformat_minor": 5
}
